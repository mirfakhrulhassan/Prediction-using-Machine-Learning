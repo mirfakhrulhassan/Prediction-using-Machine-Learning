{
 "cells": [
  {
   "cell_type": "code",
   "execution_count": 1,
   "metadata": {},
   "outputs": [],
   "source": [
    "# Dependencies\n",
    "import numpy as np\n",
    "import pandas as pd\n",
    "from sklearn.model_selection import train_test_split\n",
    "from sklearn.preprocessing import LabelEncoder, MinMaxScaler\n",
    "from tensorflow.keras.utils import to_categorical"
   ]
  },
  {
   "cell_type": "code",
   "execution_count": 2,
   "metadata": {},
   "outputs": [
    {
     "data": {
      "text/html": [
       "<div>\n",
       "<style scoped>\n",
       "    .dataframe tbody tr th:only-of-type {\n",
       "        vertical-align: middle;\n",
       "    }\n",
       "\n",
       "    .dataframe tbody tr th {\n",
       "        vertical-align: top;\n",
       "    }\n",
       "\n",
       "    .dataframe thead th {\n",
       "        text-align: right;\n",
       "    }\n",
       "</style>\n",
       "<table border=\"1\" class=\"dataframe\">\n",
       "  <thead>\n",
       "    <tr style=\"text-align: right;\">\n",
       "      <th></th>\n",
       "      <th>Store Number</th>\n",
       "      <th>Activations</th>\n",
       "      <th>Zipcode</th>\n",
       "      <th>Population</th>\n",
       "      <th>Median Age</th>\n",
       "      <th>Household Income</th>\n",
       "      <th>Per Capita Income</th>\n",
       "      <th>Poverty Count</th>\n",
       "      <th>Poverty Rate</th>\n",
       "      <th>Profitability</th>\n",
       "    </tr>\n",
       "  </thead>\n",
       "  <tbody>\n",
       "    <tr>\n",
       "      <th>0</th>\n",
       "      <td>5278</td>\n",
       "      <td>476</td>\n",
       "      <td>1020</td>\n",
       "      <td>30571</td>\n",
       "      <td>43.4</td>\n",
       "      <td>51255</td>\n",
       "      <td>27207</td>\n",
       "      <td>3163</td>\n",
       "      <td>10.346407</td>\n",
       "      <td>Profitable</td>\n",
       "    </tr>\n",
       "    <tr>\n",
       "      <th>1</th>\n",
       "      <td>2683</td>\n",
       "      <td>317</td>\n",
       "      <td>1035</td>\n",
       "      <td>5254</td>\n",
       "      <td>45.0</td>\n",
       "      <td>73250</td>\n",
       "      <td>36471</td>\n",
       "      <td>403</td>\n",
       "      <td>7.670346</td>\n",
       "      <td>Profitable</td>\n",
       "    </tr>\n",
       "    <tr>\n",
       "      <th>2</th>\n",
       "      <td>2901</td>\n",
       "      <td>207</td>\n",
       "      <td>1060</td>\n",
       "      <td>15026</td>\n",
       "      <td>34.2</td>\n",
       "      <td>52607</td>\n",
       "      <td>33655</td>\n",
       "      <td>2205</td>\n",
       "      <td>14.674564</td>\n",
       "      <td>Not Profitable</td>\n",
       "    </tr>\n",
       "    <tr>\n",
       "      <th>3</th>\n",
       "      <td>2386</td>\n",
       "      <td>407</td>\n",
       "      <td>1082</td>\n",
       "      <td>10318</td>\n",
       "      <td>45.3</td>\n",
       "      <td>51717</td>\n",
       "      <td>28354</td>\n",
       "      <td>1372</td>\n",
       "      <td>13.297151</td>\n",
       "      <td>Profitable</td>\n",
       "    </tr>\n",
       "    <tr>\n",
       "      <th>4</th>\n",
       "      <td>2174</td>\n",
       "      <td>357</td>\n",
       "      <td>1085</td>\n",
       "      <td>40721</td>\n",
       "      <td>39.1</td>\n",
       "      <td>59881</td>\n",
       "      <td>28943</td>\n",
       "      <td>3690</td>\n",
       "      <td>9.061664</td>\n",
       "      <td>Profitable</td>\n",
       "    </tr>\n",
       "  </tbody>\n",
       "</table>\n",
       "</div>"
      ],
      "text/plain": [
       "   Store Number  Activations  Zipcode  Population  Median Age  \\\n",
       "0          5278          476     1020       30571        43.4   \n",
       "1          2683          317     1035        5254        45.0   \n",
       "2          2901          207     1060       15026        34.2   \n",
       "3          2386          407     1082       10318        45.3   \n",
       "4          2174          357     1085       40721        39.1   \n",
       "\n",
       "   Household Income  Per Capita Income  Poverty Count  Poverty Rate  \\\n",
       "0             51255              27207           3163     10.346407   \n",
       "1             73250              36471            403      7.670346   \n",
       "2             52607              33655           2205     14.674564   \n",
       "3             51717              28354           1372     13.297151   \n",
       "4             59881              28943           3690      9.061664   \n",
       "\n",
       "    Profitability  \n",
       "0      Profitable  \n",
       "1      Profitable  \n",
       "2  Not Profitable  \n",
       "3      Profitable  \n",
       "4      Profitable  "
      ]
     },
     "execution_count": 2,
     "metadata": {},
     "output_type": "execute_result"
    }
   ],
   "source": [
    "df = pd.read_excel('Final Project\\ProjectData.xlsx')\n",
    "df.head()"
   ]
  },
  {
   "cell_type": "code",
   "execution_count": 3,
   "metadata": {},
   "outputs": [
    {
     "data": {
      "text/plain": [
       "Store Number         1167\n",
       "Activations          1167\n",
       "Zipcode              1167\n",
       "Population           1167\n",
       "Median Age           1167\n",
       "Household Income     1167\n",
       "Per Capita Income    1167\n",
       "Poverty Count        1167\n",
       "Poverty Rate         1167\n",
       "Profitability        1167\n",
       "dtype: int64"
      ]
     },
     "execution_count": 3,
     "metadata": {},
     "output_type": "execute_result"
    }
   ],
   "source": [
    "df.count()"
   ]
  },
  {
   "cell_type": "code",
   "execution_count": 4,
   "metadata": {},
   "outputs": [
    {
     "data": {
      "text/plain": [
       "Index(['Store Number', 'Activations', 'Zipcode', 'Population', 'Median Age',\n",
       "       'Household Income', 'Per Capita Income', 'Poverty Count',\n",
       "       'Poverty Rate', 'Profitability'],\n",
       "      dtype='object')"
      ]
     },
     "execution_count": 4,
     "metadata": {},
     "output_type": "execute_result"
    }
   ],
   "source": [
    "df.columns"
   ]
  },
  {
   "cell_type": "code",
   "execution_count": 5,
   "metadata": {},
   "outputs": [
    {
     "data": {
      "text/html": [
       "<div>\n",
       "<style scoped>\n",
       "    .dataframe tbody tr th:only-of-type {\n",
       "        vertical-align: middle;\n",
       "    }\n",
       "\n",
       "    .dataframe tbody tr th {\n",
       "        vertical-align: top;\n",
       "    }\n",
       "\n",
       "    .dataframe thead th {\n",
       "        text-align: right;\n",
       "    }\n",
       "</style>\n",
       "<table border=\"1\" class=\"dataframe\">\n",
       "  <thead>\n",
       "    <tr style=\"text-align: right;\">\n",
       "      <th></th>\n",
       "      <th>Activations</th>\n",
       "      <th>Zipcode</th>\n",
       "      <th>Population</th>\n",
       "      <th>Median Age</th>\n",
       "      <th>Household Income</th>\n",
       "      <th>Per Capita Income</th>\n",
       "      <th>Poverty Count</th>\n",
       "      <th>Poverty Rate</th>\n",
       "      <th>Profitability</th>\n",
       "    </tr>\n",
       "  </thead>\n",
       "  <tbody>\n",
       "    <tr>\n",
       "      <th>0</th>\n",
       "      <td>476</td>\n",
       "      <td>1020</td>\n",
       "      <td>30571</td>\n",
       "      <td>43.4</td>\n",
       "      <td>51255</td>\n",
       "      <td>27207</td>\n",
       "      <td>3163</td>\n",
       "      <td>10.346407</td>\n",
       "      <td>Profitable</td>\n",
       "    </tr>\n",
       "    <tr>\n",
       "      <th>1</th>\n",
       "      <td>317</td>\n",
       "      <td>1035</td>\n",
       "      <td>5254</td>\n",
       "      <td>45.0</td>\n",
       "      <td>73250</td>\n",
       "      <td>36471</td>\n",
       "      <td>403</td>\n",
       "      <td>7.670346</td>\n",
       "      <td>Profitable</td>\n",
       "    </tr>\n",
       "    <tr>\n",
       "      <th>2</th>\n",
       "      <td>207</td>\n",
       "      <td>1060</td>\n",
       "      <td>15026</td>\n",
       "      <td>34.2</td>\n",
       "      <td>52607</td>\n",
       "      <td>33655</td>\n",
       "      <td>2205</td>\n",
       "      <td>14.674564</td>\n",
       "      <td>Not Profitable</td>\n",
       "    </tr>\n",
       "    <tr>\n",
       "      <th>3</th>\n",
       "      <td>407</td>\n",
       "      <td>1082</td>\n",
       "      <td>10318</td>\n",
       "      <td>45.3</td>\n",
       "      <td>51717</td>\n",
       "      <td>28354</td>\n",
       "      <td>1372</td>\n",
       "      <td>13.297151</td>\n",
       "      <td>Profitable</td>\n",
       "    </tr>\n",
       "    <tr>\n",
       "      <th>4</th>\n",
       "      <td>357</td>\n",
       "      <td>1085</td>\n",
       "      <td>40721</td>\n",
       "      <td>39.1</td>\n",
       "      <td>59881</td>\n",
       "      <td>28943</td>\n",
       "      <td>3690</td>\n",
       "      <td>9.061664</td>\n",
       "      <td>Profitable</td>\n",
       "    </tr>\n",
       "  </tbody>\n",
       "</table>\n",
       "</div>"
      ],
      "text/plain": [
       "   Activations  Zipcode  Population  Median Age  Household Income  \\\n",
       "0          476     1020       30571        43.4             51255   \n",
       "1          317     1035        5254        45.0             73250   \n",
       "2          207     1060       15026        34.2             52607   \n",
       "3          407     1082       10318        45.3             51717   \n",
       "4          357     1085       40721        39.1             59881   \n",
       "\n",
       "   Per Capita Income  Poverty Count  Poverty Rate   Profitability  \n",
       "0              27207           3163     10.346407      Profitable  \n",
       "1              36471            403      7.670346      Profitable  \n",
       "2              33655           2205     14.674564  Not Profitable  \n",
       "3              28354           1372     13.297151      Profitable  \n",
       "4              28943           3690      9.061664      Profitable  "
      ]
     },
     "execution_count": 5,
     "metadata": {},
     "output_type": "execute_result"
    }
   ],
   "source": [
    "df = df[['Activations', 'Zipcode', 'Population',\n",
    "       'Median Age', 'Household Income', 'Per Capita Income', 'Poverty Count',\n",
    "       'Poverty Rate', 'Profitability']]\n",
    "df.head()"
   ]
  },
  {
   "cell_type": "code",
   "execution_count": 6,
   "metadata": {},
   "outputs": [
    {
     "name": "stdout",
     "output_type": "stream",
     "text": [
      "(1167, 8) (1167,)\n"
     ]
    }
   ],
   "source": [
    "X = df.drop(\"Profitability\", axis=1)\n",
    "y =df[\"Profitability\"]\n",
    "print(X.shape, y.shape)"
   ]
  },
  {
   "cell_type": "code",
   "execution_count": 7,
   "metadata": {},
   "outputs": [
    {
     "data": {
      "text/plain": [
       "(1167, 1167)"
      ]
     },
     "execution_count": 7,
     "metadata": {},
     "output_type": "execute_result"
    }
   ],
   "source": [
    "# label encoding and one-hot encoding\n",
    "\n",
    "label_encoder_Zipcode = LabelEncoder()\n",
    "label_encoder_Zipcode.fit(X[\"Zipcode\"])\n",
    "encoded_Zipcode = label_encoder_Zipcode.transform(X[\"Zipcode\"])\n",
    "\n",
    "Zipcode_categorical = to_categorical(encoded_Zipcode)\n",
    "Zipcode_categorical.shape"
   ]
  },
  {
   "cell_type": "code",
   "execution_count": 8,
   "metadata": {},
   "outputs": [],
   "source": [
    "#Converting categorical data to a dataframe\n",
    "\n",
    "Zipcode_categorical_df = pd.DataFrame(Zipcode_categorical)"
   ]
  },
  {
   "cell_type": "code",
   "execution_count": 9,
   "metadata": {},
   "outputs": [],
   "source": [
    "#Concatinating other X features with categorical zipcode\n",
    "X_exZipcode_df = X[['Activations', 'Population','Median Age', 'Household Income', 'Per Capita Income', 'Poverty Count',\n",
    "       'Poverty Rate']]\n",
    "X_df = pd.concat([X_exZipcode_df,Zipcode_categorical_df],axis=1)"
   ]
  },
  {
   "cell_type": "code",
   "execution_count": 10,
   "metadata": {},
   "outputs": [],
   "source": [
    "X_train, X_test, y_train, y_test = train_test_split(\n",
    "    X_df, y, random_state=1, stratify=y)"
   ]
  },
  {
   "cell_type": "code",
   "execution_count": 11,
   "metadata": {},
   "outputs": [
    {
     "name": "stderr",
     "output_type": "stream",
     "text": [
      "C:\\Users\\Riad\\Anaconda3\\lib\\site-packages\\sklearn\\preprocessing\\data.py:334: DataConversionWarning: Data with input dtype float32, int64, float64 were all converted to float64 by MinMaxScaler.\n",
      "  return self.partial_fit(X, y)\n"
     ]
    }
   ],
   "source": [
    "X_scaler = MinMaxScaler().fit(X_train)\n",
    "X_train_scaled = X_scaler.transform(X_train)\n",
    "X_test_scaled = X_scaler.transform(X_test)"
   ]
  },
  {
   "cell_type": "code",
   "execution_count": 12,
   "metadata": {},
   "outputs": [],
   "source": [
    "# label encoding and one-hot encoding\n",
    "\n",
    "label_encoder_y = LabelEncoder()\n",
    "label_encoder_y.fit(y_train)\n",
    "encoded_y_train = label_encoder_y.transform(y_train)\n",
    "encoded_y_test = label_encoder_y.transform(y_test)\n",
    "\n",
    "y_train_categorical = to_categorical(encoded_y_train)\n",
    "y_test_categorical = to_categorical(encoded_y_test)"
   ]
  },
  {
   "cell_type": "code",
   "execution_count": 13,
   "metadata": {},
   "outputs": [],
   "source": [
    "#import dependecies\n",
    "from tensorflow.keras.models import Sequential\n",
    "from tensorflow.keras.layers import Dense"
   ]
  },
  {
   "cell_type": "code",
   "execution_count": 14,
   "metadata": {},
   "outputs": [],
   "source": [
    "# Create model and add layers\n",
    "model = Sequential()\n",
    "model.add(Dense(units=100, activation='relu', input_dim=1174))\n",
    "model.add(Dense(units=100, activation='relu'))\n",
    "model.add(Dense(units=2, activation='softmax'))"
   ]
  },
  {
   "cell_type": "code",
   "execution_count": 15,
   "metadata": {},
   "outputs": [],
   "source": [
    "# Compile and fit the model\n",
    "model.compile(optimizer='adam',\n",
    "              loss='categorical_crossentropy',\n",
    "              metrics=['accuracy'])"
   ]
  },
  {
   "cell_type": "code",
   "execution_count": 16,
   "metadata": {},
   "outputs": [
    {
     "name": "stdout",
     "output_type": "stream",
     "text": [
      "Model: \"sequential\"\n",
      "_________________________________________________________________\n",
      "Layer (type)                 Output Shape              Param #   \n",
      "=================================================================\n",
      "dense (Dense)                (None, 100)               117500    \n",
      "_________________________________________________________________\n",
      "dense_1 (Dense)              (None, 100)               10100     \n",
      "_________________________________________________________________\n",
      "dense_2 (Dense)              (None, 2)                 202       \n",
      "=================================================================\n",
      "Total params: 127,802\n",
      "Trainable params: 127,802\n",
      "Non-trainable params: 0\n",
      "_________________________________________________________________\n"
     ]
    }
   ],
   "source": [
    "model.summary()"
   ]
  },
  {
   "cell_type": "code",
   "execution_count": 17,
   "metadata": {},
   "outputs": [
    {
     "data": {
      "text/plain": [
       "(875, 1174)"
      ]
     },
     "execution_count": 17,
     "metadata": {},
     "output_type": "execute_result"
    }
   ],
   "source": [
    "X_train_scaled.shape"
   ]
  },
  {
   "cell_type": "code",
   "execution_count": 18,
   "metadata": {},
   "outputs": [
    {
     "data": {
      "text/plain": [
       "<tensorflow.python.keras.callbacks.History at 0x23f477d6b00>"
      ]
     },
     "execution_count": 18,
     "metadata": {},
     "output_type": "execute_result"
    }
   ],
   "source": [
    "model.fit(\n",
    "    X_train_scaled,\n",
    "    y_train_categorical,\n",
    "    epochs=50,\n",
    "    shuffle=True,\n",
    "    verbose=0\n",
    ")"
   ]
  },
  {
   "cell_type": "code",
   "execution_count": 19,
   "metadata": {},
   "outputs": [
    {
     "name": "stdout",
     "output_type": "stream",
     "text": [
      "292/1 - 0s - loss: 0.0630 - accuracy: 0.9555\n",
      "Profitability Prediction - Loss: 0.11052568208375206, Accuracy: 0.9554794430732727\n"
     ]
    }
   ],
   "source": [
    "model_loss, model_accuracy = model.evaluate(\n",
    "    X_test_scaled, y_test_categorical, verbose=2)\n",
    "print(\n",
    "    f\"Profitability Prediction - Loss: {model_loss}, Accuracy: {model_accuracy}\")"
   ]
  },
  {
   "cell_type": "code",
   "execution_count": 20,
   "metadata": {},
   "outputs": [],
   "source": [
    "encoded_predictions = model.predict_classes(X_test_scaled[:10])\n",
    "prediction_labels = label_encoder_y.inverse_transform(encoded_predictions)"
   ]
  },
  {
   "cell_type": "code",
   "execution_count": 21,
   "metadata": {},
   "outputs": [
    {
     "data": {
      "text/html": [
       "<div>\n",
       "<style scoped>\n",
       "    .dataframe tbody tr th:only-of-type {\n",
       "        vertical-align: middle;\n",
       "    }\n",
       "\n",
       "    .dataframe tbody tr th {\n",
       "        vertical-align: top;\n",
       "    }\n",
       "\n",
       "    .dataframe thead th {\n",
       "        text-align: right;\n",
       "    }\n",
       "</style>\n",
       "<table border=\"1\" class=\"dataframe\">\n",
       "  <thead>\n",
       "    <tr style=\"text-align: right;\">\n",
       "      <th></th>\n",
       "      <th>Predicted Class</th>\n",
       "      <th>Actual Labels</th>\n",
       "    </tr>\n",
       "  </thead>\n",
       "  <tbody>\n",
       "    <tr>\n",
       "      <th>822</th>\n",
       "      <td>Not Profitable</td>\n",
       "      <td>Not Profitable</td>\n",
       "    </tr>\n",
       "    <tr>\n",
       "      <th>380</th>\n",
       "      <td>Profitable</td>\n",
       "      <td>Profitable</td>\n",
       "    </tr>\n",
       "    <tr>\n",
       "      <th>791</th>\n",
       "      <td>Profitable</td>\n",
       "      <td>Not Profitable</td>\n",
       "    </tr>\n",
       "    <tr>\n",
       "      <th>879</th>\n",
       "      <td>Not Profitable</td>\n",
       "      <td>Not Profitable</td>\n",
       "    </tr>\n",
       "    <tr>\n",
       "      <th>165</th>\n",
       "      <td>Profitable</td>\n",
       "      <td>Profitable</td>\n",
       "    </tr>\n",
       "    <tr>\n",
       "      <th>660</th>\n",
       "      <td>Not Profitable</td>\n",
       "      <td>Not Profitable</td>\n",
       "    </tr>\n",
       "    <tr>\n",
       "      <th>768</th>\n",
       "      <td>Profitable</td>\n",
       "      <td>Profitable</td>\n",
       "    </tr>\n",
       "    <tr>\n",
       "      <th>649</th>\n",
       "      <td>Profitable</td>\n",
       "      <td>Profitable</td>\n",
       "    </tr>\n",
       "    <tr>\n",
       "      <th>503</th>\n",
       "      <td>Not Profitable</td>\n",
       "      <td>Not Profitable</td>\n",
       "    </tr>\n",
       "    <tr>\n",
       "      <th>924</th>\n",
       "      <td>Not Profitable</td>\n",
       "      <td>Not Profitable</td>\n",
       "    </tr>\n",
       "  </tbody>\n",
       "</table>\n",
       "</div>"
      ],
      "text/plain": [
       "    Predicted Class   Actual Labels\n",
       "822  Not Profitable  Not Profitable\n",
       "380      Profitable      Profitable\n",
       "791      Profitable  Not Profitable\n",
       "879  Not Profitable  Not Profitable\n",
       "165      Profitable      Profitable\n",
       "660  Not Profitable  Not Profitable\n",
       "768      Profitable      Profitable\n",
       "649      Profitable      Profitable\n",
       "503  Not Profitable  Not Profitable\n",
       "924  Not Profitable  Not Profitable"
      ]
     },
     "execution_count": 21,
     "metadata": {},
     "output_type": "execute_result"
    }
   ],
   "source": [
    "Result_df = pd.DataFrame({'Predicted Class':prediction_labels,\n",
    "                        'Actual Labels':(y_test[:10])})\n",
    "Result_df"
   ]
  },
  {
   "cell_type": "code",
   "execution_count": 22,
   "metadata": {},
   "outputs": [],
   "source": [
    "Result_df.to_excel('Final Project\\Validation.xlsx',index=False)"
   ]
  },
  {
   "cell_type": "markdown",
   "metadata": {},
   "source": [
    "## Predicting with External Data"
   ]
  },
  {
   "cell_type": "code",
   "execution_count": 23,
   "metadata": {},
   "outputs": [
    {
     "data": {
      "text/html": [
       "<div>\n",
       "<style scoped>\n",
       "    .dataframe tbody tr th:only-of-type {\n",
       "        vertical-align: middle;\n",
       "    }\n",
       "\n",
       "    .dataframe tbody tr th {\n",
       "        vertical-align: top;\n",
       "    }\n",
       "\n",
       "    .dataframe thead th {\n",
       "        text-align: right;\n",
       "    }\n",
       "</style>\n",
       "<table border=\"1\" class=\"dataframe\">\n",
       "  <thead>\n",
       "    <tr style=\"text-align: right;\">\n",
       "      <th></th>\n",
       "      <th>Activations</th>\n",
       "      <th>Zipcode</th>\n",
       "      <th>Population</th>\n",
       "      <th>Median Age</th>\n",
       "      <th>Household Income</th>\n",
       "      <th>Per Capita Income</th>\n",
       "      <th>Poverty Count</th>\n",
       "      <th>Poverty Rate</th>\n",
       "    </tr>\n",
       "  </thead>\n",
       "  <tbody>\n",
       "    <tr>\n",
       "      <th>0</th>\n",
       "      <td>309</td>\n",
       "      <td>601</td>\n",
       "      <td>18450</td>\n",
       "      <td>36.6</td>\n",
       "      <td>12041.0</td>\n",
       "      <td>7380.0</td>\n",
       "      <td>10816</td>\n",
       "      <td>58.623306</td>\n",
       "    </tr>\n",
       "    <tr>\n",
       "      <th>1</th>\n",
       "      <td>83</td>\n",
       "      <td>602</td>\n",
       "      <td>41302</td>\n",
       "      <td>38.6</td>\n",
       "      <td>15663.0</td>\n",
       "      <td>8463.0</td>\n",
       "      <td>22409</td>\n",
       "      <td>54.256452</td>\n",
       "    </tr>\n",
       "    <tr>\n",
       "      <th>2</th>\n",
       "      <td>106</td>\n",
       "      <td>603</td>\n",
       "      <td>53683</td>\n",
       "      <td>38.9</td>\n",
       "      <td>15485.0</td>\n",
       "      <td>9176.0</td>\n",
       "      <td>26220</td>\n",
       "      <td>48.842278</td>\n",
       "    </tr>\n",
       "    <tr>\n",
       "      <th>3</th>\n",
       "      <td>113</td>\n",
       "      <td>606</td>\n",
       "      <td>6591</td>\n",
       "      <td>37.3</td>\n",
       "      <td>15019.0</td>\n",
       "      <td>6383.0</td>\n",
       "      <td>3721</td>\n",
       "      <td>56.455773</td>\n",
       "    </tr>\n",
       "    <tr>\n",
       "      <th>4</th>\n",
       "      <td>27</td>\n",
       "      <td>610</td>\n",
       "      <td>28963</td>\n",
       "      <td>39.2</td>\n",
       "      <td>16707.0</td>\n",
       "      <td>7892.0</td>\n",
       "      <td>14569</td>\n",
       "      <td>50.302110</td>\n",
       "    </tr>\n",
       "  </tbody>\n",
       "</table>\n",
       "</div>"
      ],
      "text/plain": [
       "   Activations  Zipcode  Population  Median Age  Household Income  \\\n",
       "0          309      601       18450        36.6           12041.0   \n",
       "1           83      602       41302        38.6           15663.0   \n",
       "2          106      603       53683        38.9           15485.0   \n",
       "3          113      606        6591        37.3           15019.0   \n",
       "4           27      610       28963        39.2           16707.0   \n",
       "\n",
       "   Per Capita Income  Poverty Count  Poverty Rate  \n",
       "0             7380.0          10816     58.623306  \n",
       "1             8463.0          22409     54.256452  \n",
       "2             9176.0          26220     48.842278  \n",
       "3             6383.0           3721     56.455773  \n",
       "4             7892.0          14569     50.302110  "
      ]
     },
     "execution_count": 23,
     "metadata": {},
     "output_type": "execute_result"
    }
   ],
   "source": [
    "data_df = pd.read_excel('Final Project\\PredictData.xlsx')\n",
    "data_df.head()"
   ]
  },
  {
   "cell_type": "code",
   "execution_count": 24,
   "metadata": {},
   "outputs": [
    {
     "data": {
      "text/plain": [
       "Activations          31953\n",
       "Zipcode              31953\n",
       "Population           31953\n",
       "Median Age           31422\n",
       "Household Income     30818\n",
       "Per Capita Income    31379\n",
       "Poverty Count        31953\n",
       "Poverty Rate         31617\n",
       "dtype: int64"
      ]
     },
     "execution_count": 24,
     "metadata": {},
     "output_type": "execute_result"
    }
   ],
   "source": [
    "data_df.count()"
   ]
  },
  {
   "cell_type": "code",
   "execution_count": 25,
   "metadata": {},
   "outputs": [],
   "source": [
    "data_df  = data_df.dropna(how='any')"
   ]
  },
  {
   "cell_type": "code",
   "execution_count": 26,
   "metadata": {},
   "outputs": [
    {
     "data": {
      "text/plain": [
       "Activations          30818\n",
       "Zipcode              30818\n",
       "Population           30818\n",
       "Median Age           30818\n",
       "Household Income     30818\n",
       "Per Capita Income    30818\n",
       "Poverty Count        30818\n",
       "Poverty Rate         30818\n",
       "dtype: int64"
      ]
     },
     "execution_count": 26,
     "metadata": {},
     "output_type": "execute_result"
    }
   ],
   "source": [
    "data_df.count()"
   ]
  },
  {
   "cell_type": "code",
   "execution_count": 27,
   "metadata": {},
   "outputs": [
    {
     "data": {
      "text/html": [
       "<div>\n",
       "<style scoped>\n",
       "    .dataframe tbody tr th:only-of-type {\n",
       "        vertical-align: middle;\n",
       "    }\n",
       "\n",
       "    .dataframe tbody tr th {\n",
       "        vertical-align: top;\n",
       "    }\n",
       "\n",
       "    .dataframe thead th {\n",
       "        text-align: right;\n",
       "    }\n",
       "</style>\n",
       "<table border=\"1\" class=\"dataframe\">\n",
       "  <thead>\n",
       "    <tr style=\"text-align: right;\">\n",
       "      <th></th>\n",
       "      <th>Activations</th>\n",
       "      <th>Zipcode</th>\n",
       "      <th>Population</th>\n",
       "      <th>Median Age</th>\n",
       "      <th>Household Income</th>\n",
       "      <th>Per Capita Income</th>\n",
       "      <th>Poverty Count</th>\n",
       "      <th>Poverty Rate</th>\n",
       "    </tr>\n",
       "  </thead>\n",
       "  <tbody>\n",
       "    <tr>\n",
       "      <th>0</th>\n",
       "      <td>309</td>\n",
       "      <td>601</td>\n",
       "      <td>18450</td>\n",
       "      <td>36.6</td>\n",
       "      <td>12041.0</td>\n",
       "      <td>7380.0</td>\n",
       "      <td>10816</td>\n",
       "      <td>58.623306</td>\n",
       "    </tr>\n",
       "    <tr>\n",
       "      <th>1</th>\n",
       "      <td>83</td>\n",
       "      <td>602</td>\n",
       "      <td>41302</td>\n",
       "      <td>38.6</td>\n",
       "      <td>15663.0</td>\n",
       "      <td>8463.0</td>\n",
       "      <td>22409</td>\n",
       "      <td>54.256452</td>\n",
       "    </tr>\n",
       "    <tr>\n",
       "      <th>2</th>\n",
       "      <td>106</td>\n",
       "      <td>603</td>\n",
       "      <td>53683</td>\n",
       "      <td>38.9</td>\n",
       "      <td>15485.0</td>\n",
       "      <td>9176.0</td>\n",
       "      <td>26220</td>\n",
       "      <td>48.842278</td>\n",
       "    </tr>\n",
       "    <tr>\n",
       "      <th>3</th>\n",
       "      <td>113</td>\n",
       "      <td>606</td>\n",
       "      <td>6591</td>\n",
       "      <td>37.3</td>\n",
       "      <td>15019.0</td>\n",
       "      <td>6383.0</td>\n",
       "      <td>3721</td>\n",
       "      <td>56.455773</td>\n",
       "    </tr>\n",
       "    <tr>\n",
       "      <th>4</th>\n",
       "      <td>27</td>\n",
       "      <td>610</td>\n",
       "      <td>28963</td>\n",
       "      <td>39.2</td>\n",
       "      <td>16707.0</td>\n",
       "      <td>7892.0</td>\n",
       "      <td>14569</td>\n",
       "      <td>50.302110</td>\n",
       "    </tr>\n",
       "  </tbody>\n",
       "</table>\n",
       "</div>"
      ],
      "text/plain": [
       "   Activations  Zipcode  Population  Median Age  Household Income  \\\n",
       "0          309      601       18450        36.6           12041.0   \n",
       "1           83      602       41302        38.6           15663.0   \n",
       "2          106      603       53683        38.9           15485.0   \n",
       "3          113      606        6591        37.3           15019.0   \n",
       "4           27      610       28963        39.2           16707.0   \n",
       "\n",
       "   Per Capita Income  Poverty Count  Poverty Rate  \n",
       "0             7380.0          10816     58.623306  \n",
       "1             8463.0          22409     54.256452  \n",
       "2             9176.0          26220     48.842278  \n",
       "3             6383.0           3721     56.455773  \n",
       "4             7892.0          14569     50.302110  "
      ]
     },
     "execution_count": 27,
     "metadata": {},
     "output_type": "execute_result"
    }
   ],
   "source": [
    "data_df = data_df.iloc[:1167]\n",
    "data_df.head()"
   ]
  },
  {
   "cell_type": "code",
   "execution_count": 28,
   "metadata": {},
   "outputs": [
    {
     "data": {
      "text/plain": [
       "(1167, 8)"
      ]
     },
     "execution_count": 28,
     "metadata": {},
     "output_type": "execute_result"
    }
   ],
   "source": [
    "data_df.shape"
   ]
  },
  {
   "cell_type": "code",
   "execution_count": 29,
   "metadata": {},
   "outputs": [
    {
     "data": {
      "text/plain": [
       "(1167, 1167)"
      ]
     },
     "execution_count": 29,
     "metadata": {},
     "output_type": "execute_result"
    }
   ],
   "source": [
    "label_encoder_zcode = LabelEncoder()\n",
    "label_encoder_zcode.fit(data_df[\"Zipcode\"])\n",
    "encoded_zcode = label_encoder_zcode.transform(data_df[\"Zipcode\"])\n",
    "\n",
    "zcode_categorical = to_categorical(encoded_zcode)\n",
    "zcode_categorical.shape"
   ]
  },
  {
   "cell_type": "code",
   "execution_count": 30,
   "metadata": {},
   "outputs": [
    {
     "data": {
      "text/html": [
       "<div>\n",
       "<style scoped>\n",
       "    .dataframe tbody tr th:only-of-type {\n",
       "        vertical-align: middle;\n",
       "    }\n",
       "\n",
       "    .dataframe tbody tr th {\n",
       "        vertical-align: top;\n",
       "    }\n",
       "\n",
       "    .dataframe thead th {\n",
       "        text-align: right;\n",
       "    }\n",
       "</style>\n",
       "<table border=\"1\" class=\"dataframe\">\n",
       "  <thead>\n",
       "    <tr style=\"text-align: right;\">\n",
       "      <th></th>\n",
       "      <th>Activations</th>\n",
       "      <th>Population</th>\n",
       "      <th>Median Age</th>\n",
       "      <th>Household Income</th>\n",
       "      <th>Per Capita Income</th>\n",
       "      <th>Poverty Count</th>\n",
       "      <th>Poverty Rate</th>\n",
       "      <th>0</th>\n",
       "      <th>1</th>\n",
       "      <th>2</th>\n",
       "      <th>...</th>\n",
       "      <th>1157</th>\n",
       "      <th>1158</th>\n",
       "      <th>1159</th>\n",
       "      <th>1160</th>\n",
       "      <th>1161</th>\n",
       "      <th>1162</th>\n",
       "      <th>1163</th>\n",
       "      <th>1164</th>\n",
       "      <th>1165</th>\n",
       "      <th>1166</th>\n",
       "    </tr>\n",
       "  </thead>\n",
       "  <tbody>\n",
       "    <tr>\n",
       "      <th>0</th>\n",
       "      <td>309.0</td>\n",
       "      <td>18450.0</td>\n",
       "      <td>36.6</td>\n",
       "      <td>12041.0</td>\n",
       "      <td>7380.0</td>\n",
       "      <td>10816.0</td>\n",
       "      <td>58.623306</td>\n",
       "      <td>1.0</td>\n",
       "      <td>0.0</td>\n",
       "      <td>0.0</td>\n",
       "      <td>...</td>\n",
       "      <td>0.0</td>\n",
       "      <td>0.0</td>\n",
       "      <td>0.0</td>\n",
       "      <td>0.0</td>\n",
       "      <td>0.0</td>\n",
       "      <td>0.0</td>\n",
       "      <td>0.0</td>\n",
       "      <td>0.0</td>\n",
       "      <td>0.0</td>\n",
       "      <td>0.0</td>\n",
       "    </tr>\n",
       "    <tr>\n",
       "      <th>1</th>\n",
       "      <td>83.0</td>\n",
       "      <td>41302.0</td>\n",
       "      <td>38.6</td>\n",
       "      <td>15663.0</td>\n",
       "      <td>8463.0</td>\n",
       "      <td>22409.0</td>\n",
       "      <td>54.256452</td>\n",
       "      <td>0.0</td>\n",
       "      <td>1.0</td>\n",
       "      <td>0.0</td>\n",
       "      <td>...</td>\n",
       "      <td>0.0</td>\n",
       "      <td>0.0</td>\n",
       "      <td>0.0</td>\n",
       "      <td>0.0</td>\n",
       "      <td>0.0</td>\n",
       "      <td>0.0</td>\n",
       "      <td>0.0</td>\n",
       "      <td>0.0</td>\n",
       "      <td>0.0</td>\n",
       "      <td>0.0</td>\n",
       "    </tr>\n",
       "    <tr>\n",
       "      <th>2</th>\n",
       "      <td>106.0</td>\n",
       "      <td>53683.0</td>\n",
       "      <td>38.9</td>\n",
       "      <td>15485.0</td>\n",
       "      <td>9176.0</td>\n",
       "      <td>26220.0</td>\n",
       "      <td>48.842278</td>\n",
       "      <td>0.0</td>\n",
       "      <td>0.0</td>\n",
       "      <td>1.0</td>\n",
       "      <td>...</td>\n",
       "      <td>0.0</td>\n",
       "      <td>0.0</td>\n",
       "      <td>0.0</td>\n",
       "      <td>0.0</td>\n",
       "      <td>0.0</td>\n",
       "      <td>0.0</td>\n",
       "      <td>0.0</td>\n",
       "      <td>0.0</td>\n",
       "      <td>0.0</td>\n",
       "      <td>0.0</td>\n",
       "    </tr>\n",
       "    <tr>\n",
       "      <th>3</th>\n",
       "      <td>113.0</td>\n",
       "      <td>6591.0</td>\n",
       "      <td>37.3</td>\n",
       "      <td>15019.0</td>\n",
       "      <td>6383.0</td>\n",
       "      <td>3721.0</td>\n",
       "      <td>56.455773</td>\n",
       "      <td>0.0</td>\n",
       "      <td>0.0</td>\n",
       "      <td>0.0</td>\n",
       "      <td>...</td>\n",
       "      <td>0.0</td>\n",
       "      <td>0.0</td>\n",
       "      <td>0.0</td>\n",
       "      <td>0.0</td>\n",
       "      <td>0.0</td>\n",
       "      <td>0.0</td>\n",
       "      <td>0.0</td>\n",
       "      <td>0.0</td>\n",
       "      <td>0.0</td>\n",
       "      <td>0.0</td>\n",
       "    </tr>\n",
       "    <tr>\n",
       "      <th>4</th>\n",
       "      <td>27.0</td>\n",
       "      <td>28963.0</td>\n",
       "      <td>39.2</td>\n",
       "      <td>16707.0</td>\n",
       "      <td>7892.0</td>\n",
       "      <td>14569.0</td>\n",
       "      <td>50.302110</td>\n",
       "      <td>0.0</td>\n",
       "      <td>0.0</td>\n",
       "      <td>0.0</td>\n",
       "      <td>...</td>\n",
       "      <td>0.0</td>\n",
       "      <td>0.0</td>\n",
       "      <td>0.0</td>\n",
       "      <td>0.0</td>\n",
       "      <td>0.0</td>\n",
       "      <td>0.0</td>\n",
       "      <td>0.0</td>\n",
       "      <td>0.0</td>\n",
       "      <td>0.0</td>\n",
       "      <td>0.0</td>\n",
       "    </tr>\n",
       "  </tbody>\n",
       "</table>\n",
       "<p>5 rows × 1174 columns</p>\n",
       "</div>"
      ],
      "text/plain": [
       "   Activations  Population  Median Age  Household Income  Per Capita Income  \\\n",
       "0        309.0     18450.0        36.6           12041.0             7380.0   \n",
       "1         83.0     41302.0        38.6           15663.0             8463.0   \n",
       "2        106.0     53683.0        38.9           15485.0             9176.0   \n",
       "3        113.0      6591.0        37.3           15019.0             6383.0   \n",
       "4         27.0     28963.0        39.2           16707.0             7892.0   \n",
       "\n",
       "   Poverty Count  Poverty Rate    0    1    2  ...  1157  1158  1159  1160  \\\n",
       "0        10816.0     58.623306  1.0  0.0  0.0  ...   0.0   0.0   0.0   0.0   \n",
       "1        22409.0     54.256452  0.0  1.0  0.0  ...   0.0   0.0   0.0   0.0   \n",
       "2        26220.0     48.842278  0.0  0.0  1.0  ...   0.0   0.0   0.0   0.0   \n",
       "3         3721.0     56.455773  0.0  0.0  0.0  ...   0.0   0.0   0.0   0.0   \n",
       "4        14569.0     50.302110  0.0  0.0  0.0  ...   0.0   0.0   0.0   0.0   \n",
       "\n",
       "   1161  1162  1163  1164  1165  1166  \n",
       "0   0.0   0.0   0.0   0.0   0.0   0.0  \n",
       "1   0.0   0.0   0.0   0.0   0.0   0.0  \n",
       "2   0.0   0.0   0.0   0.0   0.0   0.0  \n",
       "3   0.0   0.0   0.0   0.0   0.0   0.0  \n",
       "4   0.0   0.0   0.0   0.0   0.0   0.0  \n",
       "\n",
       "[5 rows x 1174 columns]"
      ]
     },
     "execution_count": 30,
     "metadata": {},
     "output_type": "execute_result"
    }
   ],
   "source": [
    "zcode_categorical_df = pd.DataFrame(zcode_categorical)\n",
    "data_exZipcode_df = data_df[['Activations', 'Population','Median Age', 'Household Income', 'Per Capita Income', 'Poverty Count',\n",
    "       'Poverty Rate']]\n",
    "input_df = pd.concat([data_exZipcode_df,zcode_categorical_df],axis=1)\n",
    "input_df.head()"
   ]
  },
  {
   "cell_type": "code",
   "execution_count": 31,
   "metadata": {},
   "outputs": [
    {
     "name": "stderr",
     "output_type": "stream",
     "text": [
      "C:\\Users\\Riad\\Anaconda3\\lib\\site-packages\\sklearn\\preprocessing\\data.py:334: DataConversionWarning: Data with input dtype float32, float64 were all converted to float64 by MinMaxScaler.\n",
      "  return self.partial_fit(X, y)\n"
     ]
    }
   ],
   "source": [
    "input_scaler = MinMaxScaler().fit(input_df)\n",
    "input_train_scaled = input_scaler.transform(input_df)"
   ]
  },
  {
   "cell_type": "code",
   "execution_count": 32,
   "metadata": {},
   "outputs": [],
   "source": [
    "encoded_predictions_data = model.predict_classes(input_train_scaled[0:1167])\n",
    "prediction_labels_output = label_encoder_y.inverse_transform(encoded_predictions_data)"
   ]
  },
  {
   "cell_type": "code",
   "execution_count": 33,
   "metadata": {},
   "outputs": [
    {
     "data": {
      "text/html": [
       "<div>\n",
       "<style scoped>\n",
       "    .dataframe tbody tr th:only-of-type {\n",
       "        vertical-align: middle;\n",
       "    }\n",
       "\n",
       "    .dataframe tbody tr th {\n",
       "        vertical-align: top;\n",
       "    }\n",
       "\n",
       "    .dataframe thead th {\n",
       "        text-align: right;\n",
       "    }\n",
       "</style>\n",
       "<table border=\"1\" class=\"dataframe\">\n",
       "  <thead>\n",
       "    <tr style=\"text-align: right;\">\n",
       "      <th></th>\n",
       "      <th>Activations</th>\n",
       "      <th>Zipcode</th>\n",
       "      <th>Population</th>\n",
       "      <th>Median Age</th>\n",
       "      <th>Household Income</th>\n",
       "      <th>Per Capita Income</th>\n",
       "      <th>Poverty Count</th>\n",
       "      <th>Poverty Rate</th>\n",
       "      <th>Predicted Class</th>\n",
       "    </tr>\n",
       "  </thead>\n",
       "  <tbody>\n",
       "    <tr>\n",
       "      <th>0</th>\n",
       "      <td>309.0</td>\n",
       "      <td>601.0</td>\n",
       "      <td>18450.0</td>\n",
       "      <td>36.6</td>\n",
       "      <td>12041.0</td>\n",
       "      <td>7380.0</td>\n",
       "      <td>10816.0</td>\n",
       "      <td>58.623306</td>\n",
       "      <td>Profitable</td>\n",
       "    </tr>\n",
       "    <tr>\n",
       "      <th>1</th>\n",
       "      <td>83.0</td>\n",
       "      <td>602.0</td>\n",
       "      <td>41302.0</td>\n",
       "      <td>38.6</td>\n",
       "      <td>15663.0</td>\n",
       "      <td>8463.0</td>\n",
       "      <td>22409.0</td>\n",
       "      <td>54.256452</td>\n",
       "      <td>Profitable</td>\n",
       "    </tr>\n",
       "    <tr>\n",
       "      <th>2</th>\n",
       "      <td>106.0</td>\n",
       "      <td>603.0</td>\n",
       "      <td>53683.0</td>\n",
       "      <td>38.9</td>\n",
       "      <td>15485.0</td>\n",
       "      <td>9176.0</td>\n",
       "      <td>26220.0</td>\n",
       "      <td>48.842278</td>\n",
       "      <td>Not Profitable</td>\n",
       "    </tr>\n",
       "    <tr>\n",
       "      <th>3</th>\n",
       "      <td>113.0</td>\n",
       "      <td>606.0</td>\n",
       "      <td>6591.0</td>\n",
       "      <td>37.3</td>\n",
       "      <td>15019.0</td>\n",
       "      <td>6383.0</td>\n",
       "      <td>3721.0</td>\n",
       "      <td>56.455773</td>\n",
       "      <td>Profitable</td>\n",
       "    </tr>\n",
       "    <tr>\n",
       "      <th>4</th>\n",
       "      <td>27.0</td>\n",
       "      <td>610.0</td>\n",
       "      <td>28963.0</td>\n",
       "      <td>39.2</td>\n",
       "      <td>16707.0</td>\n",
       "      <td>7892.0</td>\n",
       "      <td>14569.0</td>\n",
       "      <td>50.302110</td>\n",
       "      <td>Profitable</td>\n",
       "    </tr>\n",
       "  </tbody>\n",
       "</table>\n",
       "</div>"
      ],
      "text/plain": [
       "   Activations  Zipcode  Population  Median Age  Household Income  \\\n",
       "0        309.0    601.0     18450.0        36.6           12041.0   \n",
       "1         83.0    602.0     41302.0        38.6           15663.0   \n",
       "2        106.0    603.0     53683.0        38.9           15485.0   \n",
       "3        113.0    606.0      6591.0        37.3           15019.0   \n",
       "4         27.0    610.0     28963.0        39.2           16707.0   \n",
       "\n",
       "   Per Capita Income  Poverty Count  Poverty Rate Predicted Class  \n",
       "0             7380.0        10816.0     58.623306      Profitable  \n",
       "1             8463.0        22409.0     54.256452      Profitable  \n",
       "2             9176.0        26220.0     48.842278  Not Profitable  \n",
       "3             6383.0         3721.0     56.455773      Profitable  \n",
       "4             7892.0        14569.0     50.302110      Profitable  "
      ]
     },
     "execution_count": 33,
     "metadata": {},
     "output_type": "execute_result"
    }
   ],
   "source": [
    "predict_df = pd.DataFrame({'Predicted Class':prediction_labels_output})\n",
    "                        \n",
    "output_with_prediction_df = pd.concat([data_df,predict_df],axis = 1)\n",
    "output_with_prediction_df.head()"
   ]
  },
  {
   "cell_type": "code",
   "execution_count": 34,
   "metadata": {},
   "outputs": [],
   "source": [
    "output_with_prediction_df.to_excel('Final Project\\FinalOutput.xlsx',index=False)"
   ]
  },
  {
   "cell_type": "code",
   "execution_count": 35,
   "metadata": {},
   "outputs": [],
   "source": [
    "predict_df.to_excel('Final Project\\Prediction.xlsx',index=False)"
   ]
  }
 ],
 "metadata": {
  "kernelspec": {
   "display_name": "Python 3",
   "language": "python",
   "name": "python3"
  },
  "language_info": {
   "codemirror_mode": {
    "name": "ipython",
    "version": 3
   },
   "file_extension": ".py",
   "mimetype": "text/x-python",
   "name": "python",
   "nbconvert_exporter": "python",
   "pygments_lexer": "ipython3",
   "version": "3.7.3"
  }
 },
 "nbformat": 4,
 "nbformat_minor": 2
}
